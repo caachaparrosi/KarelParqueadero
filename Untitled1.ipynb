{
  "nbformat": 4,
  "nbformat_minor": 0,
  "metadata": {
    "colab": {
      "name": "Untitled1.ipynb",
      "provenance": [],
      "include_colab_link": true
    },
    "kernelspec": {
      "name": "python3",
      "display_name": "Python 3"
    }
  },
  "cells": [
    {
      "cell_type": "markdown",
      "metadata": {
        "id": "view-in-github",
        "colab_type": "text"
      },
      "source": [
        "<a href=\"https://colab.research.google.com/github/caachaparrosi/KarelParqueadero/blob/master/Untitled1.ipynb\" target=\"_parent\"><img src=\"https://colab.research.google.com/assets/colab-badge.svg\" alt=\"Open In Colab\"/></a>"
      ]
    },
    {
      "cell_type": "code",
      "metadata": {
        "id": "FnJYmj-JWjVU",
        "colab_type": "code",
        "outputId": "129c6cc9-4e0d-41bf-f970-a48b31b88baf",
        "colab": {
          "base_uri": "https://localhost:8080/",
          "height": 343
        }
      },
      "source": [
        "pip install -U fortran-magic"
      ],
      "execution_count": 1,
      "outputs": [
        {
          "output_type": "stream",
          "text": [
            "Collecting fortran-magic\n",
            "  Downloading https://files.pythonhosted.org/packages/53/b1/d664bd431354c450f40fa436b2c9306666cd417b23098dd5636751c557a4/fortran_magic-0.7-py3-none-any.whl\n",
            "Requirement already satisfied, skipping upgrade: ipython in /usr/local/lib/python3.6/dist-packages (from fortran-magic) (5.5.0)\n",
            "Requirement already satisfied, skipping upgrade: numpy in /usr/local/lib/python3.6/dist-packages (from fortran-magic) (1.18.2)\n",
            "Requirement already satisfied, skipping upgrade: prompt-toolkit<2.0.0,>=1.0.4 in /usr/local/lib/python3.6/dist-packages (from ipython->fortran-magic) (1.0.18)\n",
            "Requirement already satisfied, skipping upgrade: simplegeneric>0.8 in /usr/local/lib/python3.6/dist-packages (from ipython->fortran-magic) (0.8.1)\n",
            "Requirement already satisfied, skipping upgrade: pexpect; sys_platform != \"win32\" in /usr/local/lib/python3.6/dist-packages (from ipython->fortran-magic) (4.8.0)\n",
            "Requirement already satisfied, skipping upgrade: pygments in /usr/local/lib/python3.6/dist-packages (from ipython->fortran-magic) (2.1.3)\n",
            "Requirement already satisfied, skipping upgrade: decorator in /usr/local/lib/python3.6/dist-packages (from ipython->fortran-magic) (4.4.2)\n",
            "Requirement already satisfied, skipping upgrade: pickleshare in /usr/local/lib/python3.6/dist-packages (from ipython->fortran-magic) (0.7.5)\n",
            "Requirement already satisfied, skipping upgrade: traitlets>=4.2 in /usr/local/lib/python3.6/dist-packages (from ipython->fortran-magic) (4.3.3)\n",
            "Requirement already satisfied, skipping upgrade: setuptools>=18.5 in /usr/local/lib/python3.6/dist-packages (from ipython->fortran-magic) (46.1.3)\n",
            "Requirement already satisfied, skipping upgrade: wcwidth in /usr/local/lib/python3.6/dist-packages (from prompt-toolkit<2.0.0,>=1.0.4->ipython->fortran-magic) (0.1.9)\n",
            "Requirement already satisfied, skipping upgrade: six>=1.9.0 in /usr/local/lib/python3.6/dist-packages (from prompt-toolkit<2.0.0,>=1.0.4->ipython->fortran-magic) (1.12.0)\n",
            "Requirement already satisfied, skipping upgrade: ptyprocess>=0.5 in /usr/local/lib/python3.6/dist-packages (from pexpect; sys_platform != \"win32\"->ipython->fortran-magic) (0.6.0)\n",
            "Requirement already satisfied, skipping upgrade: ipython-genutils in /usr/local/lib/python3.6/dist-packages (from traitlets>=4.2->ipython->fortran-magic) (0.2.0)\n",
            "Installing collected packages: fortran-magic\n",
            "Successfully installed fortran-magic-0.7\n"
          ],
          "name": "stdout"
        }
      ]
    },
    {
      "cell_type": "code",
      "metadata": {
        "id": "AnnS_48ewjGB",
        "colab_type": "code",
        "colab": {}
      },
      "source": [
        "import numpy as np\n",
        "import py_compile\n",
        "import pandas as pd\n",
        "assert \"Oh noes!\"\n",
        "#My Example\n",
        "assert \"Hello World\""
      ],
      "execution_count": 0,
      "outputs": []
    },
    {
      "cell_type": "code",
      "metadata": {
        "id": "3eR_taFTWqLa",
        "colab_type": "code",
        "outputId": "1df9f8c3-ef25-47d2-e55c-49cadd8cde35",
        "colab": {
          "base_uri": "https://localhost:8080/",
          "height": 54
        }
      },
      "source": [
        "%reload_ext fortranmagic"
      ],
      "execution_count": 0,
      "outputs": [
        {
          "output_type": "stream",
          "text": [
            "/usr/local/lib/python3.6/dist-packages/fortranmagic.py:147: UserWarning: get_ipython_cache_dir has moved to the IPython.paths module since IPython 4.0.\n",
            "  self._lib_dir = os.path.join(get_ipython_cache_dir(), 'fortran')\n"
          ],
          "name": "stderr"
        },
        {
          "output_type": "display_data",
          "data": {
            "application/javascript": [
              "$.getScript(\"https://raw.github.com/marijnh/CodeMirror/master/mode/fortran/fortran.js\", function () {\n",
              "IPython.config.cell_magic_highlight['magic_fortran'] = {'reg':[/^%%fortran/]};});\n"
            ]
          },
          "metadata": {
            "tags": []
          }
        }
      ]
    },
    {
      "cell_type": "code",
      "metadata": {
        "id": "7bSGW7vHWxy2",
        "colab_type": "code",
        "colab": {}
      },
      "source": [
        "%%fortran\n",
        "subroutine fortran_dot_product(xs, ys, result)\n",
        "  double precision, intent(in) :: xs(:)\n",
        "  double precision, intent(in) :: ys(:)\n",
        "  double precision, intent(out) :: result\n",
        "  \n",
        "  result = sum(xs * ys)\n",
        "end"
      ],
      "execution_count": 0,
      "outputs": []
    },
    {
      "cell_type": "code",
      "metadata": {
        "id": "xTsTS5DsW0hJ",
        "colab_type": "code",
        "colab": {}
      },
      "source": [
        "#My Example\n",
        "#Instead of \"double precision\", could be \"float\", \"integer\", etc. depending of needs of the code\n",
        "%%fortran\n",
        "subroutine producto_punto_fortran(x1, x2, resultado)\n",
        "  double precision, intent(in) :: x1(:)\n",
        "  double precision, intent(in) :: x2(:)\n",
        "  double precision, intent(out) :: resultado\n",
        "  \n",
        "  resultado = sum(x1 * x2)\n",
        "end"
      ],
      "execution_count": 0,
      "outputs": []
    },
    {
      "cell_type": "code",
      "metadata": {
        "id": "2CzRQiWGW4LT",
        "colab_type": "code",
        "colab": {}
      },
      "source": [
        "list_data = [float(i) for i in range(100000)]\n",
        "array_data = np.array(list_data)"
      ],
      "execution_count": 0,
      "outputs": []
    },
    {
      "cell_type": "code",
      "metadata": {
        "id": "2v8ydV09W5xU",
        "colab_type": "code",
        "colab": {}
      },
      "source": [
        "#My Example\n",
        "list_of_data = [float(j) for j in range(500000)]\n",
        "array_of_data = np.array(list_of_data)"
      ],
      "execution_count": 0,
      "outputs": []
    },
    {
      "cell_type": "code",
      "metadata": {
        "id": "_NLpc6sJW9Q1",
        "colab_type": "code",
        "outputId": "19f543cc-547a-436a-a5f9-34a349878a3a",
        "colab": {
          "base_uri": "https://localhost:8080/",
          "height": 398
        }
      },
      "source": [
        "%%time\n",
        "python_dot_product(list_data, list_data)"
      ],
      "execution_count": 0,
      "outputs": [
        {
          "output_type": "error",
          "ename": "NameError",
          "evalue": "ignored",
          "traceback": [
            "\u001b[0;31m---------------------------------------------------------------------------\u001b[0m",
            "\u001b[0;31mNameError\u001b[0m                                 Traceback (most recent call last)",
            "\u001b[0;32m<ipython-input-16-c3a6f02b2b87>\u001b[0m in \u001b[0;36m<module>\u001b[0;34m()\u001b[0m\n\u001b[0;32m----> 1\u001b[0;31m \u001b[0mget_ipython\u001b[0m\u001b[0;34m(\u001b[0m\u001b[0;34m)\u001b[0m\u001b[0;34m.\u001b[0m\u001b[0mrun_cell_magic\u001b[0m\u001b[0;34m(\u001b[0m\u001b[0;34m'time'\u001b[0m\u001b[0;34m,\u001b[0m \u001b[0;34m''\u001b[0m\u001b[0;34m,\u001b[0m \u001b[0;34m'python_dot_product(list_data, list_data)'\u001b[0m\u001b[0;34m)\u001b[0m\u001b[0;34m\u001b[0m\u001b[0;34m\u001b[0m\u001b[0m\n\u001b[0m",
            "\u001b[0;32m/usr/local/lib/python3.6/dist-packages/IPython/core/interactiveshell.py\u001b[0m in \u001b[0;36mrun_cell_magic\u001b[0;34m(self, magic_name, line, cell)\u001b[0m\n\u001b[1;32m   2115\u001b[0m             \u001b[0mmagic_arg_s\u001b[0m \u001b[0;34m=\u001b[0m \u001b[0mself\u001b[0m\u001b[0;34m.\u001b[0m\u001b[0mvar_expand\u001b[0m\u001b[0;34m(\u001b[0m\u001b[0mline\u001b[0m\u001b[0;34m,\u001b[0m \u001b[0mstack_depth\u001b[0m\u001b[0;34m)\u001b[0m\u001b[0;34m\u001b[0m\u001b[0;34m\u001b[0m\u001b[0m\n\u001b[1;32m   2116\u001b[0m             \u001b[0;32mwith\u001b[0m \u001b[0mself\u001b[0m\u001b[0;34m.\u001b[0m\u001b[0mbuiltin_trap\u001b[0m\u001b[0;34m:\u001b[0m\u001b[0;34m\u001b[0m\u001b[0;34m\u001b[0m\u001b[0m\n\u001b[0;32m-> 2117\u001b[0;31m                 \u001b[0mresult\u001b[0m \u001b[0;34m=\u001b[0m \u001b[0mfn\u001b[0m\u001b[0;34m(\u001b[0m\u001b[0mmagic_arg_s\u001b[0m\u001b[0;34m,\u001b[0m \u001b[0mcell\u001b[0m\u001b[0;34m)\u001b[0m\u001b[0;34m\u001b[0m\u001b[0;34m\u001b[0m\u001b[0m\n\u001b[0m\u001b[1;32m   2118\u001b[0m             \u001b[0;32mreturn\u001b[0m \u001b[0mresult\u001b[0m\u001b[0;34m\u001b[0m\u001b[0;34m\u001b[0m\u001b[0m\n\u001b[1;32m   2119\u001b[0m \u001b[0;34m\u001b[0m\u001b[0m\n",
            "\u001b[0;32m<decorator-gen-60>\u001b[0m in \u001b[0;36mtime\u001b[0;34m(self, line, cell, local_ns)\u001b[0m\n",
            "\u001b[0;32m/usr/local/lib/python3.6/dist-packages/IPython/core/magic.py\u001b[0m in \u001b[0;36m<lambda>\u001b[0;34m(f, *a, **k)\u001b[0m\n\u001b[1;32m    186\u001b[0m     \u001b[0;31m# but it's overkill for just that one bit of state.\u001b[0m\u001b[0;34m\u001b[0m\u001b[0;34m\u001b[0m\u001b[0;34m\u001b[0m\u001b[0m\n\u001b[1;32m    187\u001b[0m     \u001b[0;32mdef\u001b[0m \u001b[0mmagic_deco\u001b[0m\u001b[0;34m(\u001b[0m\u001b[0marg\u001b[0m\u001b[0;34m)\u001b[0m\u001b[0;34m:\u001b[0m\u001b[0;34m\u001b[0m\u001b[0;34m\u001b[0m\u001b[0m\n\u001b[0;32m--> 188\u001b[0;31m         \u001b[0mcall\u001b[0m \u001b[0;34m=\u001b[0m \u001b[0;32mlambda\u001b[0m \u001b[0mf\u001b[0m\u001b[0;34m,\u001b[0m \u001b[0;34m*\u001b[0m\u001b[0ma\u001b[0m\u001b[0;34m,\u001b[0m \u001b[0;34m**\u001b[0m\u001b[0mk\u001b[0m\u001b[0;34m:\u001b[0m \u001b[0mf\u001b[0m\u001b[0;34m(\u001b[0m\u001b[0;34m*\u001b[0m\u001b[0ma\u001b[0m\u001b[0;34m,\u001b[0m \u001b[0;34m**\u001b[0m\u001b[0mk\u001b[0m\u001b[0;34m)\u001b[0m\u001b[0;34m\u001b[0m\u001b[0;34m\u001b[0m\u001b[0m\n\u001b[0m\u001b[1;32m    189\u001b[0m \u001b[0;34m\u001b[0m\u001b[0m\n\u001b[1;32m    190\u001b[0m         \u001b[0;32mif\u001b[0m \u001b[0mcallable\u001b[0m\u001b[0;34m(\u001b[0m\u001b[0marg\u001b[0m\u001b[0;34m)\u001b[0m\u001b[0;34m:\u001b[0m\u001b[0;34m\u001b[0m\u001b[0;34m\u001b[0m\u001b[0m\n",
            "\u001b[0;32m/usr/local/lib/python3.6/dist-packages/IPython/core/magics/execution.py\u001b[0m in \u001b[0;36mtime\u001b[0;34m(self, line, cell, local_ns)\u001b[0m\n\u001b[1;32m   1187\u001b[0m         \u001b[0;32mif\u001b[0m \u001b[0mmode\u001b[0m\u001b[0;34m==\u001b[0m\u001b[0;34m'eval'\u001b[0m\u001b[0;34m:\u001b[0m\u001b[0;34m\u001b[0m\u001b[0;34m\u001b[0m\u001b[0m\n\u001b[1;32m   1188\u001b[0m             \u001b[0mst\u001b[0m \u001b[0;34m=\u001b[0m \u001b[0mclock2\u001b[0m\u001b[0;34m(\u001b[0m\u001b[0;34m)\u001b[0m\u001b[0;34m\u001b[0m\u001b[0;34m\u001b[0m\u001b[0m\n\u001b[0;32m-> 1189\u001b[0;31m             \u001b[0mout\u001b[0m \u001b[0;34m=\u001b[0m \u001b[0meval\u001b[0m\u001b[0;34m(\u001b[0m\u001b[0mcode\u001b[0m\u001b[0;34m,\u001b[0m \u001b[0mglob\u001b[0m\u001b[0;34m,\u001b[0m \u001b[0mlocal_ns\u001b[0m\u001b[0;34m)\u001b[0m\u001b[0;34m\u001b[0m\u001b[0;34m\u001b[0m\u001b[0m\n\u001b[0m\u001b[1;32m   1190\u001b[0m             \u001b[0mend\u001b[0m \u001b[0;34m=\u001b[0m \u001b[0mclock2\u001b[0m\u001b[0;34m(\u001b[0m\u001b[0;34m)\u001b[0m\u001b[0;34m\u001b[0m\u001b[0;34m\u001b[0m\u001b[0m\n\u001b[1;32m   1191\u001b[0m         \u001b[0;32melse\u001b[0m\u001b[0;34m:\u001b[0m\u001b[0;34m\u001b[0m\u001b[0;34m\u001b[0m\u001b[0m\n",
            "\u001b[0;32m<timed eval>\u001b[0m in \u001b[0;36m<module>\u001b[0;34m()\u001b[0m\n",
            "\u001b[0;31mNameError\u001b[0m: name 'python_dot_product' is not defined"
          ]
        }
      ]
    },
    {
      "cell_type": "code",
      "metadata": {
        "id": "qjEJ4EIDXEwU",
        "colab_type": "code",
        "outputId": "cbf98e69-0669-4b29-a2fe-1ed49f3bad0e",
        "colab": {
          "base_uri": "https://localhost:8080/",
          "height": 398
        }
      },
      "source": [
        "#My Example\n",
        "%%time\n",
        "producto_punto(list_of_data, list_of_data)"
      ],
      "execution_count": 0,
      "outputs": [
        {
          "output_type": "error",
          "ename": "NameError",
          "evalue": "ignored",
          "traceback": [
            "\u001b[0;31m---------------------------------------------------------------------------\u001b[0m",
            "\u001b[0;31mNameError\u001b[0m                                 Traceback (most recent call last)",
            "\u001b[0;32m<ipython-input-17-e7cf451a164e>\u001b[0m in \u001b[0;36m<module>\u001b[0;34m()\u001b[0m\n\u001b[0;32m----> 1\u001b[0;31m \u001b[0mget_ipython\u001b[0m\u001b[0;34m(\u001b[0m\u001b[0;34m)\u001b[0m\u001b[0;34m.\u001b[0m\u001b[0mrun_cell_magic\u001b[0m\u001b[0;34m(\u001b[0m\u001b[0;34m'time'\u001b[0m\u001b[0;34m,\u001b[0m \u001b[0;34m''\u001b[0m\u001b[0;34m,\u001b[0m \u001b[0;34m'producto_punto(list_of_data, list_of_data)'\u001b[0m\u001b[0;34m)\u001b[0m\u001b[0;34m\u001b[0m\u001b[0;34m\u001b[0m\u001b[0m\n\u001b[0m",
            "\u001b[0;32m/usr/local/lib/python3.6/dist-packages/IPython/core/interactiveshell.py\u001b[0m in \u001b[0;36mrun_cell_magic\u001b[0;34m(self, magic_name, line, cell)\u001b[0m\n\u001b[1;32m   2115\u001b[0m             \u001b[0mmagic_arg_s\u001b[0m \u001b[0;34m=\u001b[0m \u001b[0mself\u001b[0m\u001b[0;34m.\u001b[0m\u001b[0mvar_expand\u001b[0m\u001b[0;34m(\u001b[0m\u001b[0mline\u001b[0m\u001b[0;34m,\u001b[0m \u001b[0mstack_depth\u001b[0m\u001b[0;34m)\u001b[0m\u001b[0;34m\u001b[0m\u001b[0;34m\u001b[0m\u001b[0m\n\u001b[1;32m   2116\u001b[0m             \u001b[0;32mwith\u001b[0m \u001b[0mself\u001b[0m\u001b[0;34m.\u001b[0m\u001b[0mbuiltin_trap\u001b[0m\u001b[0;34m:\u001b[0m\u001b[0;34m\u001b[0m\u001b[0;34m\u001b[0m\u001b[0m\n\u001b[0;32m-> 2117\u001b[0;31m                 \u001b[0mresult\u001b[0m \u001b[0;34m=\u001b[0m \u001b[0mfn\u001b[0m\u001b[0;34m(\u001b[0m\u001b[0mmagic_arg_s\u001b[0m\u001b[0;34m,\u001b[0m \u001b[0mcell\u001b[0m\u001b[0;34m)\u001b[0m\u001b[0;34m\u001b[0m\u001b[0;34m\u001b[0m\u001b[0m\n\u001b[0m\u001b[1;32m   2118\u001b[0m             \u001b[0;32mreturn\u001b[0m \u001b[0mresult\u001b[0m\u001b[0;34m\u001b[0m\u001b[0;34m\u001b[0m\u001b[0m\n\u001b[1;32m   2119\u001b[0m \u001b[0;34m\u001b[0m\u001b[0m\n",
            "\u001b[0;32m<decorator-gen-60>\u001b[0m in \u001b[0;36mtime\u001b[0;34m(self, line, cell, local_ns)\u001b[0m\n",
            "\u001b[0;32m/usr/local/lib/python3.6/dist-packages/IPython/core/magic.py\u001b[0m in \u001b[0;36m<lambda>\u001b[0;34m(f, *a, **k)\u001b[0m\n\u001b[1;32m    186\u001b[0m     \u001b[0;31m# but it's overkill for just that one bit of state.\u001b[0m\u001b[0;34m\u001b[0m\u001b[0;34m\u001b[0m\u001b[0;34m\u001b[0m\u001b[0m\n\u001b[1;32m    187\u001b[0m     \u001b[0;32mdef\u001b[0m \u001b[0mmagic_deco\u001b[0m\u001b[0;34m(\u001b[0m\u001b[0marg\u001b[0m\u001b[0;34m)\u001b[0m\u001b[0;34m:\u001b[0m\u001b[0;34m\u001b[0m\u001b[0;34m\u001b[0m\u001b[0m\n\u001b[0;32m--> 188\u001b[0;31m         \u001b[0mcall\u001b[0m \u001b[0;34m=\u001b[0m \u001b[0;32mlambda\u001b[0m \u001b[0mf\u001b[0m\u001b[0;34m,\u001b[0m \u001b[0;34m*\u001b[0m\u001b[0ma\u001b[0m\u001b[0;34m,\u001b[0m \u001b[0;34m**\u001b[0m\u001b[0mk\u001b[0m\u001b[0;34m:\u001b[0m \u001b[0mf\u001b[0m\u001b[0;34m(\u001b[0m\u001b[0;34m*\u001b[0m\u001b[0ma\u001b[0m\u001b[0;34m,\u001b[0m \u001b[0;34m**\u001b[0m\u001b[0mk\u001b[0m\u001b[0;34m)\u001b[0m\u001b[0;34m\u001b[0m\u001b[0;34m\u001b[0m\u001b[0m\n\u001b[0m\u001b[1;32m    189\u001b[0m \u001b[0;34m\u001b[0m\u001b[0m\n\u001b[1;32m    190\u001b[0m         \u001b[0;32mif\u001b[0m \u001b[0mcallable\u001b[0m\u001b[0;34m(\u001b[0m\u001b[0marg\u001b[0m\u001b[0;34m)\u001b[0m\u001b[0;34m:\u001b[0m\u001b[0;34m\u001b[0m\u001b[0;34m\u001b[0m\u001b[0m\n",
            "\u001b[0;32m/usr/local/lib/python3.6/dist-packages/IPython/core/magics/execution.py\u001b[0m in \u001b[0;36mtime\u001b[0;34m(self, line, cell, local_ns)\u001b[0m\n\u001b[1;32m   1187\u001b[0m         \u001b[0;32mif\u001b[0m \u001b[0mmode\u001b[0m\u001b[0;34m==\u001b[0m\u001b[0;34m'eval'\u001b[0m\u001b[0;34m:\u001b[0m\u001b[0;34m\u001b[0m\u001b[0;34m\u001b[0m\u001b[0m\n\u001b[1;32m   1188\u001b[0m             \u001b[0mst\u001b[0m \u001b[0;34m=\u001b[0m \u001b[0mclock2\u001b[0m\u001b[0;34m(\u001b[0m\u001b[0;34m)\u001b[0m\u001b[0;34m\u001b[0m\u001b[0;34m\u001b[0m\u001b[0m\n\u001b[0;32m-> 1189\u001b[0;31m             \u001b[0mout\u001b[0m \u001b[0;34m=\u001b[0m \u001b[0meval\u001b[0m\u001b[0;34m(\u001b[0m\u001b[0mcode\u001b[0m\u001b[0;34m,\u001b[0m \u001b[0mglob\u001b[0m\u001b[0;34m,\u001b[0m \u001b[0mlocal_ns\u001b[0m\u001b[0;34m)\u001b[0m\u001b[0;34m\u001b[0m\u001b[0;34m\u001b[0m\u001b[0m\n\u001b[0m\u001b[1;32m   1190\u001b[0m             \u001b[0mend\u001b[0m \u001b[0;34m=\u001b[0m \u001b[0mclock2\u001b[0m\u001b[0;34m(\u001b[0m\u001b[0;34m)\u001b[0m\u001b[0;34m\u001b[0m\u001b[0;34m\u001b[0m\u001b[0m\n\u001b[1;32m   1191\u001b[0m         \u001b[0;32melse\u001b[0m\u001b[0;34m:\u001b[0m\u001b[0;34m\u001b[0m\u001b[0;34m\u001b[0m\u001b[0m\n",
            "\u001b[0;32m<timed eval>\u001b[0m in \u001b[0;36m<module>\u001b[0;34m()\u001b[0m\n",
            "\u001b[0;31mNameError\u001b[0m: name 'producto_punto' is not defined"
          ]
        }
      ]
    },
    {
      "cell_type": "code",
      "metadata": {
        "id": "Q5fW4XhcXNaA",
        "colab_type": "code",
        "colab": {}
      },
      "source": [
        "%%time\n",
        "fortran_dot_product(array_data, array_data)"
      ],
      "execution_count": 0,
      "outputs": []
    },
    {
      "cell_type": "code",
      "metadata": {
        "id": "Ltkuoi7JXPau",
        "colab_type": "code",
        "colab": {}
      },
      "source": [
        "#My Example\n",
        "%%time\n",
        "producto_punto_fortran(array_of_data, array_of_data)"
      ],
      "execution_count": 0,
      "outputs": []
    },
    {
      "cell_type": "code",
      "metadata": {
        "id": "aK_KEwNeXTOW",
        "colab_type": "code",
        "colab": {}
      },
      "source": [
        "#Dynamic typing\n",
        "def mul_elemwise(xs, ys):\n",
        "  return [x * y for x, y in zip(xs, ys)]\n",
        "\n",
        "mul_elemwise([1,2,3,4], [1,2+0j,3.0,'four'])\n",
        "#[type(x) for x in _]"
      ],
      "execution_count": 0,
      "outputs": []
    },
    {
      "cell_type": "code",
      "metadata": {
        "id": "LCg8QVB6XVWm",
        "colab_type": "code",
        "colab": {}
      },
      "source": [
        "#My Example\n",
        "def super_multiplicación(x1, x2):\n",
        "  return [x_1 * x_2 for x_1, x_2 in zip(x1, x2)]\n",
        "\n",
        "super_multiplicación([3,2,3.98,5,4.5], [5,7+9j,3.0,'cuatro ',7])\n",
        "#string * string does not work"
      ],
      "execution_count": 0,
      "outputs": []
    },
    {
      "cell_type": "code",
      "metadata": {
        "id": "eVq8MZElXYpF",
        "colab_type": "code",
        "colab": {}
      },
      "source": [
        "#Interpretation overhead\n",
        "source_code = 'a + b * c'\n",
        "bytecode = compile(source_code, '', 'eval')\n",
        "import dis; dis.dis(bytecode)"
      ],
      "execution_count": 0,
      "outputs": []
    },
    {
      "cell_type": "code",
      "metadata": {
        "id": "LMfn98JVXagb",
        "colab_type": "code",
        "colab": {}
      },
      "source": [
        "#My Example\n",
        "code_to_evaluate = \"(Hola + amikos) * (x * 5)\"\n",
        "byte_code = compile(code_to_evaluate, '', 'eval')\n",
        "import dis; dis.dis(code_to_evaluate)"
      ],
      "execution_count": 0,
      "outputs": []
    },
    {
      "cell_type": "code",
      "metadata": {
        "id": "HeugoUICXc6E",
        "colab_type": "code",
        "colab": {}
      },
      "source": [
        "#Numpy has been declarated in the first cell\n",
        "data = np.array([1, 2, 3, 4])\n",
        "data"
      ],
      "execution_count": 0,
      "outputs": []
    },
    {
      "cell_type": "code",
      "metadata": {
        "id": "FyQkPbqUXgmt",
        "colab_type": "code",
        "colab": {}
      },
      "source": [
        "#My Example\n",
        "datos = np.array([10, 15, 20, 25, 30])\n",
        "datos"
      ],
      "execution_count": 0,
      "outputs": []
    },
    {
      "cell_type": "code",
      "metadata": {
        "id": "sHC0FR2SXij8",
        "colab_type": "code",
        "colab": {}
      },
      "source": [
        "data + data"
      ],
      "execution_count": 0,
      "outputs": []
    },
    {
      "cell_type": "code",
      "metadata": {
        "id": "KGdarbIvXkKO",
        "colab_type": "code",
        "colab": {}
      },
      "source": [
        "#My Example\n",
        "datos * datos"
      ],
      "execution_count": 0,
      "outputs": []
    },
    {
      "cell_type": "code",
      "metadata": {
        "id": "vicaFKM_Xlcg",
        "colab_type": "code",
        "colab": {}
      },
      "source": [
        "%%time\n",
        "#Naive dot product\n",
        "(array_data * array_data).sum()"
      ],
      "execution_count": 0,
      "outputs": []
    },
    {
      "cell_type": "code",
      "metadata": {
        "id": "7KZFibxTXmvo",
        "colab_type": "code",
        "colab": {}
      },
      "source": [
        "#My Example\n",
        "%%time\n",
        "(array_of_data * array_of_data).sum()"
      ],
      "execution_count": 0,
      "outputs": []
    },
    {
      "cell_type": "code",
      "metadata": {
        "id": "lwWtWGuTXoFs",
        "colab_type": "code",
        "colab": {}
      },
      "source": [
        "%%time\n",
        "#Built-in dot product\n",
        "array_data.dot(array_data)"
      ],
      "execution_count": 0,
      "outputs": []
    },
    {
      "cell_type": "code",
      "metadata": {
        "id": "9p5aXr15XpyJ",
        "colab_type": "code",
        "colab": {}
      },
      "source": [
        "#My Example\n",
        "%%time\n",
        "array_of_data.dot(array_of_data)"
      ],
      "execution_count": 0,
      "outputs": []
    },
    {
      "cell_type": "code",
      "metadata": {
        "id": "jeSr-_g4XsCG",
        "colab_type": "code",
        "colab": {}
      },
      "source": [
        "%%time\n",
        "fortran_dot_product(array_data, array_data)"
      ],
      "execution_count": 0,
      "outputs": []
    },
    {
      "cell_type": "code",
      "metadata": {
        "id": "wnj01iUiXtcD",
        "colab_type": "code",
        "colab": {}
      },
      "source": [
        "#My Example\n",
        "%%time\n",
        "producto_punto_fortran(array_of_data, array_of_data)"
      ],
      "execution_count": 0,
      "outputs": []
    },
    {
      "cell_type": "code",
      "metadata": {
        "id": "iMEwp7RzXwD5",
        "colab_type": "code",
        "colab": {}
      },
      "source": [
        "#Numpy won't allow us to write a string into an int array\n",
        "data[0] = \"foo\""
      ],
      "execution_count": 0,
      "outputs": []
    },
    {
      "cell_type": "code",
      "metadata": {
        "id": "mgm_k6ubXyaI",
        "colab_type": "code",
        "colab": {}
      },
      "source": [
        "#We also can't grow an array once it's created\n",
        "data.append(3)"
      ],
      "execution_count": 0,
      "outputs": []
    },
    {
      "cell_type": "code",
      "metadata": {
        "id": "ZdcVsn14X1TP",
        "colab_type": "code",
        "colab": {}
      },
      "source": [
        "#We **can** reshape an array though.\n",
        "two_by_two = data.reshape(2, 2)\n",
        "two_by_two"
      ],
      "execution_count": 0,
      "outputs": []
    },
    {
      "cell_type": "code",
      "metadata": {
        "id": "uJTwoF66X4AS",
        "colab_type": "code",
        "colab": {}
      },
      "source": [
        "#My Example\n",
        "matrix_mode = datos.reshape(5,1)\n",
        "matrix_mode"
      ],
      "execution_count": 0,
      "outputs": []
    },
    {
      "cell_type": "code",
      "metadata": {
        "id": "YQsGy04nX5n9",
        "colab_type": "code",
        "colab": {}
      },
      "source": [
        "arr = np.array([1, 2, 3, 4, 5, 6], dtype='int16').reshape(2,3)\n",
        "print(\"Array:\\n\", arr, sep='')\n",
        "print(\"===========\")\n",
        "print(\"Dtype: \", arr.dtype)\n",
        "print(\"Shape: \", arr.shape)\n",
        "print(\"Strides: \", arr.strides)\n",
        "print(\"Data: \", arr.data.tobytes())"
      ],
      "execution_count": 0,
      "outputs": []
    },
    {
      "cell_type": "code",
      "metadata": {
        "id": "M6dmRhC5X7Gt",
        "colab_type": "code",
        "colab": {}
      },
      "source": [
        "#My Example\n",
        "arreglo = np.array([8, 9, 10, 11, 12, 13, 14, 15, 16], dtype='int32').reshape(3,3)\n",
        "print(\"Array:\\n\", arreglo, sep=' ')\n",
        "print(\"===========\")\n",
        "print(\"Dtype: \", arreglo.dtype)\n",
        "print(\"Shape: \", arreglo.shape)\n",
        "print(\"Strides: \", arreglo.strides)\n",
        "print(\"Data: \", arreglo.data.tobytes())"
      ],
      "execution_count": 0,
      "outputs": []
    },
    {
      "cell_type": "code",
      "metadata": {
        "id": "ZOfMElatX8U4",
        "colab_type": "code",
        "colab": {}
      },
      "source": [
        "data = np.arange(15).reshape(3,5)\n",
        "data"
      ],
      "execution_count": 0,
      "outputs": []
    },
    {
      "cell_type": "code",
      "metadata": {
        "id": "w_pEVwPwX_Ku",
        "colab_type": "code",
        "colab": {}
      },
      "source": [
        "#My Example\n",
        "datos = np.arange(6, 90).reshape(42,2)\n",
        "datos"
      ],
      "execution_count": 0,
      "outputs": []
    },
    {
      "cell_type": "code",
      "metadata": {
        "id": "Tp-a6cziYBdZ",
        "colab_type": "code",
        "colab": {}
      },
      "source": [
        "#Binary operators.\n",
        "data * data"
      ],
      "execution_count": 0,
      "outputs": []
    },
    {
      "cell_type": "code",
      "metadata": {
        "id": "_LkZwFC6YCzC",
        "colab_type": "code",
        "colab": {}
      },
      "source": [
        "#My Example\n",
        "datos * datos"
      ],
      "execution_count": 0,
      "outputs": []
    },
    {
      "cell_type": "code",
      "metadata": {
        "id": "KtBRN49QYE2S",
        "colab_type": "code",
        "colab": {}
      },
      "source": [
        "#Unary functions.\n",
        "np.sqrt(data)"
      ],
      "execution_count": 0,
      "outputs": []
    },
    {
      "cell_type": "code",
      "metadata": {
        "id": "jwV2Q4nsYGOy",
        "colab_type": "code",
        "colab": {}
      },
      "source": [
        "#My Example\n",
        "np.sqrt(datos)"
      ],
      "execution_count": 0,
      "outputs": []
    },
    {
      "cell_type": "code",
      "metadata": {
        "id": "EVkHeQoiYHnk",
        "colab_type": "code",
        "colab": {}
      },
      "source": [
        "#Comparison operations\n",
        "(data % 3) == 0"
      ],
      "execution_count": 0,
      "outputs": []
    },
    {
      "cell_type": "code",
      "metadata": {
        "id": "wtsZK5DkYIy4",
        "colab_type": "code",
        "colab": {}
      },
      "source": [
        "#My Example\n",
        "(datos * 2) % 5 == 4"
      ],
      "execution_count": 0,
      "outputs": []
    },
    {
      "cell_type": "code",
      "metadata": {
        "id": "zCGDDOdCYKO1",
        "colab_type": "code",
        "colab": {}
      },
      "source": [
        "# Boolean combinators\n",
        "((data % 2) == 0) & ((data % 3) == 0)"
      ],
      "execution_count": 0,
      "outputs": []
    },
    {
      "cell_type": "code",
      "metadata": {
        "id": "fqnqj5gbYLQi",
        "colab_type": "code",
        "colab": {}
      },
      "source": [
        "#My Example\n",
        "((datos % 5) == 1) & ((datos % 7) == 9)"
      ],
      "execution_count": 0,
      "outputs": []
    },
    {
      "cell_type": "code",
      "metadata": {
        "id": "567DY9PLYlUM",
        "colab_type": "code",
        "colab": {}
      },
      "source": [
        "# @ is matrix-multiply\n",
        "data @ data.T"
      ],
      "execution_count": 0,
      "outputs": []
    },
    {
      "cell_type": "code",
      "metadata": {
        "id": "tRmfqPLpeC0e",
        "colab_type": "code",
        "colab": {}
      },
      "source": [
        "#My Example\n",
        "datos @ datos.T"
      ],
      "execution_count": 0,
      "outputs": []
    },
    {
      "cell_type": "code",
      "metadata": {
        "id": "w-7CsCCFeKHf",
        "colab_type": "code",
        "colab": {}
      },
      "source": [
        "sines = np.sin(np.linspace(0, 3.14, 10))\n",
        "cosines = np.cos(np.linspace(0, 3.14, 10))\n",
        "sines"
      ],
      "execution_count": 0,
      "outputs": []
    },
    {
      "cell_type": "code",
      "metadata": {
        "id": "s_kpW16ueNOC",
        "colab_type": "code",
        "colab": {}
      },
      "source": [
        "#My Example\n",
        "sen = np.sin(np.linspace(0, 1, 20))\n",
        "cos = np.cos(np.linspace(0, 1, 20))\n",
        "cos"
      ],
      "execution_count": 0,
      "outputs": []
    },
    {
      "cell_type": "code",
      "metadata": {
        "id": "Kso7_1S_eXiK",
        "colab_type": "code",
        "colab": {}
      },
      "source": [
        "#Slicing works with the same semantics as Python lists.\n",
        "sines[0]"
      ],
      "execution_count": 0,
      "outputs": []
    },
    {
      "cell_type": "code",
      "metadata": {
        "id": "9W3LXmaYeZyK",
        "colab_type": "code",
        "colab": {}
      },
      "source": [
        "#My Example\n",
        "sen[0]"
      ],
      "execution_count": 0,
      "outputs": []
    },
    {
      "cell_type": "code",
      "metadata": {
        "id": "GJC5gELnesxm",
        "colab_type": "code",
        "colab": {}
      },
      "source": [
        "sines[:3] #First three elements"
      ],
      "execution_count": 0,
      "outputs": []
    },
    {
      "cell_type": "code",
      "metadata": {
        "id": "26wwVamveulD",
        "colab_type": "code",
        "colab": {}
      },
      "source": [
        "#My Example\n",
        "sen[:5]"
      ],
      "execution_count": 0,
      "outputs": []
    },
    {
      "cell_type": "code",
      "metadata": {
        "id": "43awMZ92e2S3",
        "colab_type": "code",
        "colab": {}
      },
      "source": [
        "sines[5:] #Elements fot 5 on."
      ],
      "execution_count": 0,
      "outputs": []
    },
    {
      "cell_type": "code",
      "metadata": {
        "id": "ts5XDh8Pe4D_",
        "colab_type": "code",
        "colab": {}
      },
      "source": [
        "#My Example\n",
        "sen[3:]"
      ],
      "execution_count": 0,
      "outputs": []
    },
    {
      "cell_type": "code",
      "metadata": {
        "id": "8Q93-dHlfLcT",
        "colab_type": "code",
        "colab": {}
      },
      "source": [
        "sines[::2] #Every other element."
      ],
      "execution_count": 0,
      "outputs": []
    },
    {
      "cell_type": "code",
      "metadata": {
        "id": "TvGxj6rSfN1j",
        "colab_type": "code",
        "colab": {}
      },
      "source": [
        "#My Example\n",
        "sen[::1]"
      ],
      "execution_count": 0,
      "outputs": []
    },
    {
      "cell_type": "code",
      "metadata": {
        "id": "YC2Xqn5ffQSW",
        "colab_type": "code",
        "colab": {}
      },
      "source": [
        "#More interesting: we can index with boolean arrays to filter by a predicate\n",
        "print(\"sines:\\n\", sines)\n",
        "print(\"sines > 0.5:\\n\", sines > 0.5)\n",
        "print(\"sines[sines > 0.5]:\\n\", sines[sines > 0.5])"
      ],
      "execution_count": 0,
      "outputs": []
    },
    {
      "cell_type": "code",
      "metadata": {
        "id": "2qOz3ZeOfTPw",
        "colab_type": "code",
        "colab": {}
      },
      "source": [
        "#My Example\n",
        "print(\"cos:\\n\", cos)\n",
        "print(\"cos > 0.5:\\n\", cos > 0.8)\n",
        "print(\"cos[cos > 0.8]:\\n\", cos[cos > 0.8])"
      ],
      "execution_count": 0,
      "outputs": []
    },
    {
      "cell_type": "code",
      "metadata": {
        "id": "bhnbA_e0fVro",
        "colab_type": "code",
        "colab": {}
      },
      "source": [
        "#We index with lists/arrays of integers to select those indices.\n",
        "print(sines)\n",
        "sines[[0, 4, 7]]"
      ],
      "execution_count": 0,
      "outputs": []
    },
    {
      "cell_type": "code",
      "metadata": {
        "id": "Q9QdNSwTfX9m",
        "colab_type": "code",
        "colab": {}
      },
      "source": [
        "#My Example\n",
        "print(cos)\n",
        "cos[[19, 1, 0]] #<--- Index's"
      ],
      "execution_count": 0,
      "outputs": []
    },
    {
      "cell_type": "code",
      "metadata": {
        "id": "ypXdYKCZfacJ",
        "colab_type": "code",
        "colab": {}
      },
      "source": [
        "unsorted_data = np.array([1, 3, 2, 12, -1, 5, 2])"
      ],
      "execution_count": 0,
      "outputs": []
    },
    {
      "cell_type": "code",
      "metadata": {
        "id": "QViM0E2mfce8",
        "colab_type": "code",
        "colab": {}
      },
      "source": [
        "#My Example\n",
        "data_sin_clasificar = np.array([-3, -5, 80, 57, 2, -100])"
      ],
      "execution_count": 0,
      "outputs": []
    },
    {
      "cell_type": "code",
      "metadata": {
        "id": "lb09HoK1feZ1",
        "colab_type": "code",
        "colab": {}
      },
      "source": [
        "sort_indices = np.argsort(unsorted_data)\n",
        "sort_indices"
      ],
      "execution_count": 0,
      "outputs": []
    },
    {
      "cell_type": "code",
      "metadata": {
        "id": "4FqKNcYHfgjc",
        "colab_type": "code",
        "colab": {}
      },
      "source": [
        "#My Example\n",
        "index = np.argsort(data_sin_clasificar)\n",
        "index"
      ],
      "execution_count": 0,
      "outputs": []
    },
    {
      "cell_type": "code",
      "metadata": {
        "id": "LMdF50nCfiv6",
        "colab_type": "code",
        "colab": {}
      },
      "source": [
        "unsorted_data[sort_indices]"
      ],
      "execution_count": 0,
      "outputs": []
    },
    {
      "cell_type": "code",
      "metadata": {
        "id": "NLicNWz9fkeP",
        "colab_type": "code",
        "colab": {}
      },
      "source": [
        "#My Example\n",
        "data_sin_clasificar[index]"
      ],
      "execution_count": 0,
      "outputs": []
    },
    {
      "cell_type": "code",
      "metadata": {
        "id": "DLaOyrWJfm0E",
        "colab_type": "code",
        "colab": {}
      },
      "source": [
        "market_caps = np.array([12, 6, 10, 5, 6]) #Presumably in dollars?\n",
        "assets = np.array(['A', 'B', 'C', 'D', 'E'])"
      ],
      "execution_count": 0,
      "outputs": []
    },
    {
      "cell_type": "code",
      "metadata": {
        "id": "A-N-leAofqPV",
        "colab_type": "code",
        "colab": {}
      },
      "source": [
        "#My Example\n",
        "precios = np.array([20000, 40000, 2000, 5000000])\n",
        "acciones = np.array([\"Netflix\", \"Microsoft\", \"AMD\", \"Tesla\"])"
      ],
      "execution_count": 0,
      "outputs": []
    },
    {
      "cell_type": "code",
      "metadata": {
        "id": "O7NZoYxJftND",
        "colab_type": "code",
        "colab": {}
      },
      "source": [
        "sort_by_mcap = np.argsort(market_caps)\n",
        "assets[sort_by_mcap]"
      ],
      "execution_count": 0,
      "outputs": []
    },
    {
      "cell_type": "code",
      "metadata": {
        "id": "E08dxdgJf4tb",
        "colab_type": "code",
        "colab": {}
      },
      "source": [
        "#My Example\n",
        "sbm = np.argsort(precios)\n",
        "acciones[sbm]"
      ],
      "execution_count": 0,
      "outputs": []
    },
    {
      "cell_type": "code",
      "metadata": {
        "id": "XS67CavUf62k",
        "colab_type": "code",
        "colab": {}
      },
      "source": [
        "data = np.arange(25).reshape(5, 5)\n",
        "data"
      ],
      "execution_count": 0,
      "outputs": []
    },
    {
      "cell_type": "code",
      "metadata": {
        "id": "gCcWgYh2f818",
        "colab_type": "code",
        "colab": {}
      },
      "source": [
        "#My Example\n",
        "datos = np.arange(30).reshape(10, 3)\n",
        "datos"
      ],
      "execution_count": 0,
      "outputs": []
    },
    {
      "cell_type": "code",
      "metadata": {
        "id": "0mswy3UIgGty",
        "colab_type": "code",
        "colab": {}
      },
      "source": [
        "data[:2, :2] #first two rows and first two columns"
      ],
      "execution_count": 0,
      "outputs": []
    },
    {
      "cell_type": "code",
      "metadata": {
        "id": "PW5SyiJkgJcO",
        "colab_type": "code",
        "colab": {}
      },
      "source": [
        "#My Example\n",
        "datos[:3, :3]"
      ],
      "execution_count": 0,
      "outputs": []
    },
    {
      "cell_type": "code",
      "metadata": {
        "id": "40bJHDdngMZQ",
        "colab_type": "code",
        "colab": {}
      },
      "source": [
        "data[:2, [0, -1]] #First two rows, first and last columns"
      ],
      "execution_count": 0,
      "outputs": []
    },
    {
      "cell_type": "code",
      "metadata": {
        "id": "Y--3z0IsgOP3",
        "colab_type": "code",
        "colab": {}
      },
      "source": [
        "#My Exampe\n",
        "datos[:3, [0, -1]]"
      ],
      "execution_count": 0,
      "outputs": []
    },
    {
      "cell_type": "code",
      "metadata": {
        "id": "YFNG0YiwgPfS",
        "colab_type": "code",
        "colab": {}
      },
      "source": [
        "data[(data[:, 0] % 2) == 0] #Rows where the first column is divisible by two"
      ],
      "execution_count": 0,
      "outputs": []
    },
    {
      "cell_type": "code",
      "metadata": {
        "id": "sA3RZM0GgUT2",
        "colab_type": "code",
        "colab": {}
      },
      "source": [
        "#My Example\n",
        "datos[(datos[:, 0] % 12) == 0]"
      ],
      "execution_count": 0,
      "outputs": []
    },
    {
      "cell_type": "code",
      "metadata": {
        "id": "g9WmkG_egV4X",
        "colab_type": "code",
        "colab": {}
      },
      "source": [
        "def variance(x):\n",
        "  return ((x - x.mean()) ** 2).sum() / len(x)"
      ],
      "execution_count": 0,
      "outputs": []
    },
    {
      "cell_type": "code",
      "metadata": {
        "id": "x3bwsApPgaKN",
        "colab_type": "code",
        "colab": {}
      },
      "source": [
        "#My Example\n",
        "def varianza(y):\n",
        "  return ((y - y.mean()) ** 2).sum() / len(y)"
      ],
      "execution_count": 0,
      "outputs": []
    },
    {
      "cell_type": "code",
      "metadata": {
        "id": "RwECMx03ghrO",
        "colab_type": "code",
        "colab": {}
      },
      "source": [
        "variance(np.random.standard_normal(1000))"
      ],
      "execution_count": 0,
      "outputs": []
    },
    {
      "cell_type": "code",
      "metadata": {
        "id": "QfZnmvEmgj7X",
        "colab_type": "code",
        "colab": {}
      },
      "source": [
        "#My Example\n",
        "varianza(np.random.standard_normal(1000000))"
      ],
      "execution_count": 0,
      "outputs": []
    },
    {
      "cell_type": "code",
      "metadata": {
        "id": "5wPND1Ncgl8A",
        "colab_type": "code",
        "colab": {}
      },
      "source": [
        "data = np.arange(30)\n",
        "data.mean()"
      ],
      "execution_count": 0,
      "outputs": []
    },
    {
      "cell_type": "code",
      "metadata": {
        "id": "Me-N_1Tfgnfz",
        "colab_type": "code",
        "colab": {}
      },
      "source": [
        "#My Example\n",
        "datos = np.arange(1, 101)\n",
        "datos.mean()"
      ],
      "execution_count": 0,
      "outputs": []
    },
    {
      "cell_type": "code",
      "metadata": {
        "id": "O1F1RhREgpm_",
        "colab_type": "code",
        "colab": {}
      },
      "source": [
        "data = np.arange(30).reshape(3, 10)\n",
        "data"
      ],
      "execution_count": 0,
      "outputs": []
    },
    {
      "cell_type": "code",
      "metadata": {
        "id": "oR3gwyhygyI5",
        "colab_type": "code",
        "colab": {}
      },
      "source": [
        "#My Example\n",
        "datos = np.arange(100).reshape(10, 10)\n",
        "datos"
      ],
      "execution_count": 0,
      "outputs": []
    },
    {
      "cell_type": "code",
      "metadata": {
        "id": "sr48oSgUg0UI",
        "colab_type": "code",
        "colab": {}
      },
      "source": [
        "data.mean()"
      ],
      "execution_count": 0,
      "outputs": []
    },
    {
      "cell_type": "code",
      "metadata": {
        "id": "T93qwn6-g13s",
        "colab_type": "code",
        "colab": {}
      },
      "source": [
        "#My Example\n",
        "datos.mean()"
      ],
      "execution_count": 0,
      "outputs": []
    },
    {
      "cell_type": "code",
      "metadata": {
        "id": "MSrBRb90g3hu",
        "colab_type": "code",
        "colab": {}
      },
      "source": [
        "data.mean(axis=0)"
      ],
      "execution_count": 0,
      "outputs": []
    },
    {
      "cell_type": "code",
      "metadata": {
        "id": "gggKa6hig59U",
        "colab_type": "code",
        "colab": {}
      },
      "source": [
        "#My Example\n",
        "datos.mean(axis=1) #axis is to sum in row or column (0 or 1)"
      ],
      "execution_count": 0,
      "outputs": []
    },
    {
      "cell_type": "code",
      "metadata": {
        "id": "eQcO7QSIg78m",
        "colab_type": "code",
        "colab": {}
      },
      "source": [
        "row = np.array([1, 2, 3, 4])\n",
        "column = np.array([[1], [2], [3]])\n",
        "print(\"Row:\\n\", row, sep=' ')\n",
        "print(\"Column:\\n\", column, sep=' ')"
      ],
      "execution_count": 0,
      "outputs": []
    },
    {
      "cell_type": "code",
      "metadata": {
        "id": "eAuem2e1g-Pk",
        "colab_type": "code",
        "colab": {}
      },
      "source": [
        "#My Example\n",
        "fila = np.array([10, 20, 40, 40])\n",
        "columna = np.array([[100], [20], [3]])\n",
        "print(\"Row:\\n\", fila, sep=' ')\n",
        "print(\"Column:\\n\", columna, sep=' ')"
      ],
      "execution_count": 0,
      "outputs": []
    },
    {
      "cell_type": "code",
      "metadata": {
        "id": "PQxdtrRyhAHu",
        "colab_type": "code",
        "colab": {}
      },
      "source": [
        "row + column"
      ],
      "execution_count": 0,
      "outputs": []
    },
    {
      "cell_type": "code",
      "metadata": {
        "id": "DbRKh0H7hCBq",
        "colab_type": "code",
        "colab": {}
      },
      "source": [
        "#My Example\n",
        "fila + columna"
      ],
      "execution_count": 0,
      "outputs": []
    },
    {
      "cell_type": "code",
      "metadata": {
        "id": "M5czokR3hD4w",
        "colab_type": "code",
        "colab": {}
      },
      "source": [
        "s = pd.Series(index=['a', 'b', 'c', 'd', 'e'], data=[1, 2, 3, 4, 5])\n",
        "s"
      ],
      "execution_count": 0,
      "outputs": []
    },
    {
      "cell_type": "code",
      "metadata": {
        "id": "wA3saQz7hFft",
        "colab_type": "code",
        "colab": {}
      },
      "source": [
        "#My Example\n",
        "z = pd.Series(index=['M', 'I', 'B', 'G'], data=[\"Mariana\", \"Isabel\", \"Bueto\", \"García\"])\n",
        "z"
      ],
      "execution_count": 0,
      "outputs": []
    },
    {
      "cell_type": "code",
      "metadata": {
        "id": "-6ELbZzXhHaj",
        "colab_type": "code",
        "colab": {}
      },
      "source": [
        "#There are two pieces to a series: the index and the values\n",
        "print(\"The index is:\", s.index)\n",
        "print(\"The values are:\", s.values)"
      ],
      "execution_count": 0,
      "outputs": []
    },
    {
      "cell_type": "code",
      "metadata": {
        "id": "QHPqtLDahJMb",
        "colab_type": "code",
        "colab": {}
      },
      "source": [
        "#My Example\n",
        "print(\"The index is:\", z.index)\n",
        "print(\"The values are:\", z.values)"
      ],
      "execution_count": 0,
      "outputs": []
    },
    {
      "cell_type": "code",
      "metadata": {
        "id": "T3pyxzSKhLcD",
        "colab_type": "code",
        "colab": {}
      },
      "source": [
        "#We can look up values out of a series by position...\n",
        "s.iloc[0]"
      ],
      "execution_count": 0,
      "outputs": []
    },
    {
      "cell_type": "code",
      "metadata": {
        "id": "L0KTYBn3hNKQ",
        "colab_type": "code",
        "colab": {}
      },
      "source": [
        "#My Example\n",
        "z.iloc[0]"
      ],
      "execution_count": 0,
      "outputs": []
    },
    {
      "cell_type": "code",
      "metadata": {
        "id": "LflipjnihPuc",
        "colab_type": "code",
        "colab": {}
      },
      "source": [
        "#... or by label.\n",
        "s.loc['a']"
      ],
      "execution_count": 0,
      "outputs": []
    },
    {
      "cell_type": "code",
      "metadata": {
        "id": "AcLMCXbXhRKB",
        "colab_type": "code",
        "colab": {}
      },
      "source": [
        "#My Example\n",
        "z.loc['M']"
      ],
      "execution_count": 0,
      "outputs": []
    },
    {
      "cell_type": "code",
      "metadata": {
        "id": "CE8uSfWFhSon",
        "colab_type": "code",
        "colab": {}
      },
      "source": [
        "# Slicing works as expected...\n",
        "s.iloc[:2]"
      ],
      "execution_count": 0,
      "outputs": []
    },
    {
      "cell_type": "code",
      "metadata": {
        "id": "tB4l86ALhUEn",
        "colab_type": "code",
        "colab": {}
      },
      "source": [
        "#My Example\n",
        "z.iloc[:3]"
      ],
      "execution_count": 0,
      "outputs": []
    },
    {
      "cell_type": "code",
      "metadata": {
        "id": "WDNlfredhYxM",
        "colab_type": "code",
        "colab": {}
      },
      "source": [
        "#... but it works with labels too!\n",
        "s.loc[:'c']"
      ],
      "execution_count": 0,
      "outputs": []
    },
    {
      "cell_type": "code",
      "metadata": {
        "id": "l9y8UUNjhaV0",
        "colab_type": "code",
        "colab": {}
      },
      "source": [
        "#My Example\n",
        "z.loc[:'B']"
      ],
      "execution_count": 0,
      "outputs": []
    },
    {
      "cell_type": "code",
      "metadata": {
        "id": "eBri3NY5hcF7",
        "colab_type": "code",
        "colab": {}
      },
      "source": [
        "#Fancy indexing works the same as in numpy.\n",
        "s.iloc[[0, -1]]"
      ],
      "execution_count": 0,
      "outputs": []
    },
    {
      "cell_type": "code",
      "metadata": {
        "id": "wBE03Lx7hdwk",
        "colab_type": "code",
        "colab": {}
      },
      "source": [
        "#My Example\n",
        "z.iloc[[0, -1]]"
      ],
      "execution_count": 0,
      "outputs": []
    },
    {
      "cell_type": "code",
      "metadata": {
        "id": "r611DgOvhgF1",
        "colab_type": "code",
        "colab": {}
      },
      "source": [
        "#As does boolean masking.\n",
        "s.loc[s > 2]"
      ],
      "execution_count": 0,
      "outputs": []
    },
    {
      "cell_type": "code",
      "metadata": {
        "id": "Mrv9A26Hhhuy",
        "colab_type": "code",
        "colab": {}
      },
      "source": [
        "#My Example\n",
        "z.loc[z == 'Isabel']"
      ],
      "execution_count": 0,
      "outputs": []
    },
    {
      "cell_type": "code",
      "metadata": {
        "id": "4Hd6GYCfhjX_",
        "colab_type": "code",
        "colab": {}
      },
      "source": [
        "#Element-wise operations are aligned by index.\n",
        "others_s = pd.Series({'a': 10.0, 'c': 20.0, 'd': 30.0, 'z': 40.0})\n",
        "others_s"
      ],
      "execution_count": 0,
      "outputs": []
    },
    {
      "cell_type": "code",
      "metadata": {
        "id": "s02PwsEphlOp",
        "colab_type": "code",
        "colab": {}
      },
      "source": [
        "#My Example\n",
        "love = pd.Series({'I': \"I\", 'L': \"love\", 'Y': \"you\", 'T': \"too\", 'M': \"Much\"})\n",
        "love"
      ],
      "execution_count": 0,
      "outputs": []
    },
    {
      "cell_type": "code",
      "metadata": {
        "id": "95GXf_OPhnKe",
        "colab_type": "code",
        "colab": {}
      },
      "source": [
        "s + others_s"
      ],
      "execution_count": 0,
      "outputs": []
    },
    {
      "cell_type": "code",
      "metadata": {
        "id": "mscEczy8ho6V",
        "colab_type": "code",
        "colab": {}
      },
      "source": [
        "#My Example\n",
        "z + love"
      ],
      "execution_count": 0,
      "outputs": []
    },
    {
      "cell_type": "code",
      "metadata": {
        "id": "hGaMVKg5hsON",
        "colab_type": "code",
        "colab": {}
      },
      "source": [
        "#We can fill in missing values with fillna()\n",
        "(s + others_s).fillna(0.0)"
      ],
      "execution_count": 0,
      "outputs": []
    },
    {
      "cell_type": "code",
      "metadata": {
        "id": "FCC4N7R0huWv",
        "colab_type": "code",
        "colab": {}
      },
      "source": [
        "#My Example\n",
        "(z + love).fillna(\"Error 404: information not found\")"
      ],
      "execution_count": 0,
      "outputs": []
    },
    {
      "cell_type": "code",
      "metadata": {
        "id": "ZDBtwzGDzsh2",
        "colab_type": "code",
        "colab": {}
      },
      "source": [
        "l = [1, 'two', 3.0, 4, 5.0, \"six\", object()]\n",
        "l"
      ],
      "execution_count": 0,
      "outputs": []
    },
    {
      "cell_type": "code",
      "metadata": {
        "id": "qR2AHiZ333By",
        "colab_type": "code",
        "colab": {}
      },
      "source": [
        "#My Example\n",
        "D = [\"Ten\", \"Blue\", 5, 6, 7.0, object(), object(), 'false', 0.0]\n",
        "D"
      ],
      "execution_count": 0,
      "outputs": []
    },
    {
      "cell_type": "code",
      "metadata": {
        "id": "2tNLpDJA357V",
        "colab_type": "code",
        "colab": {}
      },
      "source": [
        "#Lists can be indexed like C-style arrays\n",
        "first = l[0]\n",
        "second = l[1]\n",
        "print(\"first: \", first)\n",
        "print(\"second: \",second)"
      ],
      "execution_count": 0,
      "outputs": []
    },
    {
      "cell_type": "code",
      "metadata": {
        "id": "irqVZe7K38fB",
        "colab_type": "code",
        "colab": {}
      },
      "source": [
        "#My Example\n",
        "three = D[3]\n",
        "four = D[4]\n",
        "print(three)\n",
        "print(four)"
      ],
      "execution_count": 0,
      "outputs": []
    },
    {
      "cell_type": "code",
      "metadata": {
        "id": "kuyzPF_05SNx",
        "colab_type": "code",
        "colab": {}
      },
      "source": [
        "#Negative indexing gives elements relative to the end of the list\n",
        "last = l[-1]\n",
        "penultimate = l[-2]\n",
        "print(\"last: \", last)\n",
        "print(\"penultimate: \", penultimate)"
      ],
      "execution_count": 0,
      "outputs": []
    },
    {
      "cell_type": "code",
      "metadata": {
        "id": "dciXOW0W5Us6",
        "colab_type": "code",
        "colab": {}
      },
      "source": [
        "#My Example\n",
        "Ulti = D[-1]\n",
        "Penulti = D[-2]\n",
        "print(Ulti)\n",
        "print(Penulti)"
      ],
      "execution_count": 0,
      "outputs": []
    },
    {
      "cell_type": "code",
      "metadata": {
        "id": "F7dmeQH35XqG",
        "colab_type": "code",
        "colab": {}
      },
      "source": [
        "#Lists can also be sliced, which makes a copy of elements between\n",
        "# start (inclusive) and stop (exclusive)\n",
        "sublist = l[1:3]\n",
        "sublist"
      ],
      "execution_count": 0,
      "outputs": []
    },
    {
      "cell_type": "code",
      "metadata": {
        "id": "2yyMAtnh5bCO",
        "colab_type": "code",
        "colab": {}
      },
      "source": [
        "#My Example\n",
        "sublist_2 = D[0:5]\n",
        "sublist_2"
      ],
      "execution_count": 0,
      "outputs": []
    },
    {
      "cell_type": "code",
      "metadata": {
        "id": "SbALUNZ_5dCt",
        "colab_type": "code",
        "colab": {}
      },
      "source": [
        "first_three = l [:3]\n",
        "first_three"
      ],
      "execution_count": 0,
      "outputs": []
    },
    {
      "cell_type": "code",
      "metadata": {
        "id": "qngeSU9X5d3d",
        "colab_type": "code",
        "colab": {}
      },
      "source": [
        "#My Example\n",
        "zero_four = D[:4]\n",
        "zero_four"
      ],
      "execution_count": 0,
      "outputs": []
    },
    {
      "cell_type": "code",
      "metadata": {
        "id": "hG_0VXYp5ge8",
        "colab_type": "code",
        "colab": {}
      },
      "source": [
        "after_three = l[3:]\n",
        "after_three"
      ],
      "execution_count": 0,
      "outputs": []
    },
    {
      "cell_type": "code",
      "metadata": {
        "id": "I8tR97Lg5jGp",
        "colab_type": "code",
        "colab": {}
      },
      "source": [
        "#My Example\n",
        "after_four = D[4:]\n",
        "after_four"
      ],
      "execution_count": 0,
      "outputs": []
    },
    {
      "cell_type": "code",
      "metadata": {
        "id": "4JPRDaC45lcv",
        "colab_type": "code",
        "colab": {}
      },
      "source": [
        "l = ['a', 'b', 'c', 'd', 'e', 'f', 'g', 'h']\n",
        "l[1:7:2]"
      ],
      "execution_count": 0,
      "outputs": []
    },
    {
      "cell_type": "code",
      "metadata": {
        "id": "XDiZZyjs5ow0",
        "colab_type": "code",
        "colab": {}
      },
      "source": [
        "#My Example\n",
        "D = [0, 1, 2, 3, 4, 5, 6, 7, 8, 9, 10]\n",
        "D[2:11:3]"
      ],
      "execution_count": 0,
      "outputs": []
    },
    {
      "cell_type": "code",
      "metadata": {
        "id": "R5C0-SMX5rXY",
        "colab_type": "code",
        "colab": {}
      },
      "source": [
        "#List can be grown efficiently (O(1) amortized time).\n",
        "l = [1, 2, 3, 4, 5]\n",
        "print(\"Before: \", l)\n",
        "l.append('six')\n",
        "print(\"After: \", l)"
      ],
      "execution_count": 0,
      "outputs": []
    },
    {
      "cell_type": "code",
      "metadata": {
        "id": "0ZcjCv2j5thI",
        "colab_type": "code",
        "colab": {}
      },
      "source": [
        "#My Example\n",
        "D = [\"Hello\", \"Whats\", \"Up\", \"?\"]\n",
        "print(\"Before: \", D)\n",
        "D.append(\"old\")\n",
        "print(\"After: \", D)"
      ],
      "execution_count": 0,
      "outputs": []
    },
    {
      "cell_type": "code",
      "metadata": {
        "id": "3ULWL-jw5vut",
        "colab_type": "code",
        "colab": {}
      },
      "source": [
        "#Comprehension let us perform elementwise computations\n",
        "l = [1, 2, 3, 4, 5]\n",
        "[x * 2 for x in l]"
      ],
      "execution_count": 0,
      "outputs": []
    },
    {
      "cell_type": "code",
      "metadata": {
        "id": "1lzhG5he5yVM",
        "colab_type": "code",
        "colab": {}
      },
      "source": [
        "#My Example\n",
        "D = [5, 6, 7, 8, 9 ,10]\n",
        "[x * x for x in D]"
      ],
      "execution_count": 0,
      "outputs": []
    },
    {
      "cell_type": "code",
      "metadata": {
        "id": "AYCXly5Q50h1",
        "colab_type": "code",
        "colab": {}
      },
      "source": [
        "#Dictionaries are key-value mappings.\n",
        "philosophers = {'David': 'Hume', 'Inmanuel': 'Kant', 'Bertrand': 'Russel'}\n",
        "philosophers"
      ],
      "execution_count": 0,
      "outputs": []
    },
    {
      "cell_type": "code",
      "metadata": {
        "id": "nurpEtwi52_7",
        "colab_type": "code",
        "colab": {}
      },
      "source": [
        "#My Example\n",
        "Lol_champions = {'Ashe': 'shooter', 'Garen': 'Tank', 'Soraka': 'Support', 'Teemo': 'assasin'}\n",
        "Lol_champions"
      ],
      "execution_count": 0,
      "outputs": []
    },
    {
      "cell_type": "code",
      "metadata": {
        "id": "PhIA1I3J54r2",
        "colab_type": "code",
        "colab": {}
      },
      "source": [
        "#Like lists, dictionaries are size-mutable.\n",
        "philosophers['Ludwig'] = 'Wittgenstein'\n",
        "philosophers"
      ],
      "execution_count": 0,
      "outputs": []
    },
    {
      "cell_type": "code",
      "metadata": {
        "id": "UpanPNuO56kX",
        "colab_type": "code",
        "colab": {}
      },
      "source": [
        "#My Example\n",
        "Lol_champions['Veigar'] = 'Wizard'\n",
        "Lol_champions"
      ],
      "execution_count": 0,
      "outputs": []
    },
    {
      "cell_type": "code",
      "metadata": {
        "id": "Yy1qhdIm59iJ",
        "colab_type": "code",
        "colab": {}
      },
      "source": [
        "del philosophers['David']\n",
        "philosophers"
      ],
      "execution_count": 0,
      "outputs": []
    },
    {
      "cell_type": "code",
      "metadata": {
        "id": "cxIbYiNe5_jI",
        "colab_type": "code",
        "colab": {}
      },
      "source": [
        "#My Example\n",
        "del Lol_champions['Teemo']\n",
        "Lol_champions"
      ],
      "execution_count": 0,
      "outputs": []
    },
    {
      "cell_type": "code",
      "metadata": {
        "id": "FyWslyNN6DGI",
        "colab_type": "code",
        "colab": {}
      },
      "source": [
        "#No slicing\n",
        "philosophers['Betrand':'Inmanuel']"
      ],
      "execution_count": 0,
      "outputs": []
    },
    {
      "cell_type": "code",
      "metadata": {
        "id": "H061CgKEWAW0",
        "colab_type": "code",
        "colab": {}
      },
      "source": [
        "#My Example\n",
        "Lol_champions['Ashe':'Garen']"
      ],
      "execution_count": 0,
      "outputs": []
    },
    {
      "cell_type": "code",
      "metadata": {
        "id": "yVBSC8DKWJeR",
        "colab_type": "code",
        "colab": {}
      },
      "source": [
        "#Suppose we have some matrices\n",
        "a = [[1, 2, 3],\n",
        "     [2, 3, 4],\n",
        "     [5, 6, 7],\n",
        "     [1, 1, 1]]\n",
        "\n",
        "b = [[1, 2, 3, 4],\n",
        "     [2, 3, 4, 5],]"
      ],
      "execution_count": 0,
      "outputs": []
    },
    {
      "cell_type": "code",
      "metadata": {
        "id": "hTGBVoXfWL6p",
        "colab_type": "code",
        "colab": {}
      },
      "source": [
        "#My Example\n",
        "c = [[5, 6, 7],\n",
        "     [9, 8, 7],\n",
        "     [0, 1, 2]]\n",
        "\n",
        "d = [[10, 20, 30],\n",
        "     [20, 30, 40],\n",
        "     [30, 40, 50],\n",
        "     [40, 50, 60],\n",
        "     [50, 60, 70]]"
      ],
      "execution_count": 0,
      "outputs": []
    },
    {
      "cell_type": "code",
      "metadata": {
        "id": "2rEyMZtVWNmF",
        "colab_type": "code",
        "colab": {}
      },
      "source": [
        "#My Example\n",
        "c = [[5, 6, 7],\n",
        "     [9, 8, 7],\n",
        "     [0, 1, 2]]\n",
        "\n",
        "d = [[10, 20, 30],\n",
        "     [20, 30, 40],\n",
        "     [30, 40, 50],\n",
        "     [40, 50, 60],\n",
        "     [50, 60, 70]]"
      ],
      "execution_count": 0,
      "outputs": []
    },
    {
      "cell_type": "code",
      "metadata": {
        "id": "axdQjA-8WPec",
        "colab_type": "code",
        "colab": {}
      },
      "source": [
        "#My Example\n",
        "def mul(C, D):\n",
        "  fils = len(C)\n",
        "  columns = len(D[0])\n",
        "  out = [[0 for col in range(columns)] for fil in range(fils)]\n",
        "\n",
        "  for i in range(fils):\n",
        "    for j in range(columns):\n",
        "      for k in range(len(D)):\n",
        "        out[i][j] += C[i][k] * D[k][j]\n",
        "  return out"
      ],
      "execution_count": 0,
      "outputs": []
    },
    {
      "cell_type": "code",
      "metadata": {
        "id": "dCPuizpxWRiv",
        "colab_type": "code",
        "outputId": "af5eaa5b-862b-47fe-9d1d-cfe182551e9e",
        "colab": {
          "base_uri": "https://localhost:8080/",
          "height": 398
        }
      },
      "source": [
        "%%time\n",
        "\n",
        "matmul(a, b)"
      ],
      "execution_count": 0,
      "outputs": [
        {
          "output_type": "error",
          "ename": "NameError",
          "evalue": "ignored",
          "traceback": [
            "\u001b[0;31m---------------------------------------------------------------------------\u001b[0m",
            "\u001b[0;31mNameError\u001b[0m                                 Traceback (most recent call last)",
            "\u001b[0;32m<ipython-input-18-020a12180b58>\u001b[0m in \u001b[0;36m<module>\u001b[0;34m()\u001b[0m\n\u001b[0;32m----> 1\u001b[0;31m \u001b[0mget_ipython\u001b[0m\u001b[0;34m(\u001b[0m\u001b[0;34m)\u001b[0m\u001b[0;34m.\u001b[0m\u001b[0mrun_cell_magic\u001b[0m\u001b[0;34m(\u001b[0m\u001b[0;34m'time'\u001b[0m\u001b[0;34m,\u001b[0m \u001b[0;34m''\u001b[0m\u001b[0;34m,\u001b[0m \u001b[0;34m'\\nmatmul(a, b)'\u001b[0m\u001b[0;34m)\u001b[0m\u001b[0;34m\u001b[0m\u001b[0;34m\u001b[0m\u001b[0m\n\u001b[0m",
            "\u001b[0;32m/usr/local/lib/python3.6/dist-packages/IPython/core/interactiveshell.py\u001b[0m in \u001b[0;36mrun_cell_magic\u001b[0;34m(self, magic_name, line, cell)\u001b[0m\n\u001b[1;32m   2115\u001b[0m             \u001b[0mmagic_arg_s\u001b[0m \u001b[0;34m=\u001b[0m \u001b[0mself\u001b[0m\u001b[0;34m.\u001b[0m\u001b[0mvar_expand\u001b[0m\u001b[0;34m(\u001b[0m\u001b[0mline\u001b[0m\u001b[0;34m,\u001b[0m \u001b[0mstack_depth\u001b[0m\u001b[0;34m)\u001b[0m\u001b[0;34m\u001b[0m\u001b[0;34m\u001b[0m\u001b[0m\n\u001b[1;32m   2116\u001b[0m             \u001b[0;32mwith\u001b[0m \u001b[0mself\u001b[0m\u001b[0;34m.\u001b[0m\u001b[0mbuiltin_trap\u001b[0m\u001b[0;34m:\u001b[0m\u001b[0;34m\u001b[0m\u001b[0;34m\u001b[0m\u001b[0m\n\u001b[0;32m-> 2117\u001b[0;31m                 \u001b[0mresult\u001b[0m \u001b[0;34m=\u001b[0m \u001b[0mfn\u001b[0m\u001b[0;34m(\u001b[0m\u001b[0mmagic_arg_s\u001b[0m\u001b[0;34m,\u001b[0m \u001b[0mcell\u001b[0m\u001b[0;34m)\u001b[0m\u001b[0;34m\u001b[0m\u001b[0;34m\u001b[0m\u001b[0m\n\u001b[0m\u001b[1;32m   2118\u001b[0m             \u001b[0;32mreturn\u001b[0m \u001b[0mresult\u001b[0m\u001b[0;34m\u001b[0m\u001b[0;34m\u001b[0m\u001b[0m\n\u001b[1;32m   2119\u001b[0m \u001b[0;34m\u001b[0m\u001b[0m\n",
            "\u001b[0;32m<decorator-gen-60>\u001b[0m in \u001b[0;36mtime\u001b[0;34m(self, line, cell, local_ns)\u001b[0m\n",
            "\u001b[0;32m/usr/local/lib/python3.6/dist-packages/IPython/core/magic.py\u001b[0m in \u001b[0;36m<lambda>\u001b[0;34m(f, *a, **k)\u001b[0m\n\u001b[1;32m    186\u001b[0m     \u001b[0;31m# but it's overkill for just that one bit of state.\u001b[0m\u001b[0;34m\u001b[0m\u001b[0;34m\u001b[0m\u001b[0;34m\u001b[0m\u001b[0m\n\u001b[1;32m    187\u001b[0m     \u001b[0;32mdef\u001b[0m \u001b[0mmagic_deco\u001b[0m\u001b[0;34m(\u001b[0m\u001b[0marg\u001b[0m\u001b[0;34m)\u001b[0m\u001b[0;34m:\u001b[0m\u001b[0;34m\u001b[0m\u001b[0;34m\u001b[0m\u001b[0m\n\u001b[0;32m--> 188\u001b[0;31m         \u001b[0mcall\u001b[0m \u001b[0;34m=\u001b[0m \u001b[0;32mlambda\u001b[0m \u001b[0mf\u001b[0m\u001b[0;34m,\u001b[0m \u001b[0;34m*\u001b[0m\u001b[0ma\u001b[0m\u001b[0;34m,\u001b[0m \u001b[0;34m**\u001b[0m\u001b[0mk\u001b[0m\u001b[0;34m:\u001b[0m \u001b[0mf\u001b[0m\u001b[0;34m(\u001b[0m\u001b[0;34m*\u001b[0m\u001b[0ma\u001b[0m\u001b[0;34m,\u001b[0m \u001b[0;34m**\u001b[0m\u001b[0mk\u001b[0m\u001b[0;34m)\u001b[0m\u001b[0;34m\u001b[0m\u001b[0;34m\u001b[0m\u001b[0m\n\u001b[0m\u001b[1;32m    189\u001b[0m \u001b[0;34m\u001b[0m\u001b[0m\n\u001b[1;32m    190\u001b[0m         \u001b[0;32mif\u001b[0m \u001b[0mcallable\u001b[0m\u001b[0;34m(\u001b[0m\u001b[0marg\u001b[0m\u001b[0;34m)\u001b[0m\u001b[0;34m:\u001b[0m\u001b[0;34m\u001b[0m\u001b[0;34m\u001b[0m\u001b[0m\n",
            "\u001b[0;32m/usr/local/lib/python3.6/dist-packages/IPython/core/magics/execution.py\u001b[0m in \u001b[0;36mtime\u001b[0;34m(self, line, cell, local_ns)\u001b[0m\n\u001b[1;32m   1187\u001b[0m         \u001b[0;32mif\u001b[0m \u001b[0mmode\u001b[0m\u001b[0;34m==\u001b[0m\u001b[0;34m'eval'\u001b[0m\u001b[0;34m:\u001b[0m\u001b[0;34m\u001b[0m\u001b[0;34m\u001b[0m\u001b[0m\n\u001b[1;32m   1188\u001b[0m             \u001b[0mst\u001b[0m \u001b[0;34m=\u001b[0m \u001b[0mclock2\u001b[0m\u001b[0;34m(\u001b[0m\u001b[0;34m)\u001b[0m\u001b[0;34m\u001b[0m\u001b[0;34m\u001b[0m\u001b[0m\n\u001b[0;32m-> 1189\u001b[0;31m             \u001b[0mout\u001b[0m \u001b[0;34m=\u001b[0m \u001b[0meval\u001b[0m\u001b[0;34m(\u001b[0m\u001b[0mcode\u001b[0m\u001b[0;34m,\u001b[0m \u001b[0mglob\u001b[0m\u001b[0;34m,\u001b[0m \u001b[0mlocal_ns\u001b[0m\u001b[0;34m)\u001b[0m\u001b[0;34m\u001b[0m\u001b[0;34m\u001b[0m\u001b[0m\n\u001b[0m\u001b[1;32m   1190\u001b[0m             \u001b[0mend\u001b[0m \u001b[0;34m=\u001b[0m \u001b[0mclock2\u001b[0m\u001b[0;34m(\u001b[0m\u001b[0;34m)\u001b[0m\u001b[0;34m\u001b[0m\u001b[0;34m\u001b[0m\u001b[0m\n\u001b[1;32m   1191\u001b[0m         \u001b[0;32melse\u001b[0m\u001b[0;34m:\u001b[0m\u001b[0;34m\u001b[0m\u001b[0;34m\u001b[0m\u001b[0m\n",
            "\u001b[0;32m<timed eval>\u001b[0m in \u001b[0;36m<module>\u001b[0;34m()\u001b[0m\n",
            "\u001b[0;31mNameError\u001b[0m: name 'matmul' is not defined"
          ]
        }
      ]
    },
    {
      "cell_type": "code",
      "metadata": {
        "id": "50219687WUBj",
        "colab_type": "code",
        "colab": {}
      },
      "source": [
        "#My Example\n",
        "%%time\n",
        "\n",
        "mul(d, c)"
      ],
      "execution_count": 0,
      "outputs": []
    },
    {
      "cell_type": "code",
      "metadata": {
        "id": "DSYwqzmCWV_u",
        "colab_type": "code",
        "colab": {}
      },
      "source": [
        "import random\n",
        "def random_matrix(m, n):\n",
        "  out = []\n",
        "  for row in range(m):\n",
        "    out.append([random.random() for _ in range(n)])\n",
        "  return out\n",
        "randm = random_matrix(2, 3)\n",
        "randm"
      ],
      "execution_count": 0,
      "outputs": []
    },
    {
      "cell_type": "code",
      "metadata": {
        "id": "RFgEPdsvWX0p",
        "colab_type": "code",
        "colab": {}
      },
      "source": [
        "#My Example\n",
        "import random as rn\n",
        "def random_m(m, n):\n",
        "  outp = []\n",
        "  for fil in range(m):\n",
        "    outp.append([rn.random() for i in range(n)])\n",
        "  return outp\n",
        "ran = random_m(5, 5)\n",
        "ran"
      ],
      "execution_count": 0,
      "outputs": []
    },
    {
      "cell_type": "code",
      "metadata": {
        "id": "5TS6TqaLWZ5q",
        "colab_type": "code",
        "colab": {}
      },
      "source": [
        "%%time\n",
        "randa = random_matrix(600, 100)\n",
        "randb = random_matrix(100, 600)\n",
        "x = matmul(randa, randb)"
      ],
      "execution_count": 0,
      "outputs": []
    },
    {
      "cell_type": "code",
      "metadata": {
        "id": "m9xumlHZWbxc",
        "colab_type": "code",
        "colab": {}
      },
      "source": [
        "#My Example\n",
        "%%time\n",
        "matrix_a = random_matrix(20, 1000)\n",
        "matrix_b = random_matrix(1000, 20)\n",
        "x = mul(matrix_a, matrix_b)"
      ],
      "execution_count": 0,
      "outputs": []
    },
    {
      "cell_type": "code",
      "metadata": {
        "id": "2WA0s7iOWeTW",
        "colab_type": "code",
        "colab": {}
      },
      "source": [
        "#Maybe that's not that bad? Let's try a simple case\n",
        "def python_dot_product(xs, ys):\n",
        "  return sum(x * y for x, y in zip(xs, ys))"
      ],
      "execution_count": 0,
      "outputs": []
    },
    {
      "cell_type": "code",
      "metadata": {
        "id": "AwRD4VMsWgUl",
        "colab_type": "code",
        "colab": {}
      },
      "source": [
        "#My Example\n",
        "def producto_punto(x1, x2):\n",
        "  return sum(x1 * x2 for x1, x2 in zip(x1, x2))"
      ],
      "execution_count": 0,
      "outputs": []
    }
  ]
}